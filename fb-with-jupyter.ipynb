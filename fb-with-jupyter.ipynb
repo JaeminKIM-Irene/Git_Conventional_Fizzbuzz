{
 "cells": [
  {
   "cell_type": "code",
   "execution_count": 1,
   "id": "08e530f1",
   "metadata": {},
   "outputs": [],
   "source": [
    "import requests"
   ]
  },
  {
   "cell_type": "code",
   "execution_count": 3,
   "id": "960d35cb",
   "metadata": {},
   "outputs": [
    {
     "name": "stdout",
     "output_type": "stream",
     "text": [
      "200 <!doctype html><html itemscope=\"\" itemtype=\"http:/\n"
     ]
    }
   ],
   "source": [
    "res = requests.get('https://google.com')\n",
    "print(res.status_code, res.text[:50])"
   ]
  },
  {
   "cell_type": "markdown",
   "id": "8113532d",
   "metadata": {},
   "source": [
    "여기까지 첫번째 단위\n",
    "\n",
    "```shell\n",
    "$ git add fb-with-jupyter.ipynb\n",
    "$ git commit\n",
    "```"
   ]
  },
  {
   "cell_type": "code",
   "execution_count": 4,
   "id": "55a686e9",
   "metadata": {},
   "outputs": [
    {
     "data": {
      "text/plain": [
       "[1,\n",
       " 2,\n",
       " 'fizz',\n",
       " 4,\n",
       " 5,\n",
       " 'fizz',\n",
       " 7,\n",
       " 8,\n",
       " 'fizz',\n",
       " 10,\n",
       " 11,\n",
       " 'fizz',\n",
       " 13,\n",
       " 14,\n",
       " 'fizz',\n",
       " 16,\n",
       " 17]"
      ]
     },
     "execution_count": 4,
     "metadata": {},
     "output_type": "execute_result"
    }
   ],
   "source": [
    "['fizz' if i%3==0 else i for i in range(1, 17+1)]"
   ]
  },
  {
   "cell_type": "code",
   "execution_count": null,
   "id": "f80ec12d",
   "metadata": {},
   "outputs": [],
   "source": []
  }
 ],
 "metadata": {
  "kernelspec": {
   "display_name": "Python 3 (ipykernel)",
   "language": "python",
   "name": "python3"
  },
  "language_info": {
   "codemirror_mode": {
    "name": "ipython",
    "version": 3
   },
   "file_extension": ".py",
   "mimetype": "text/x-python",
   "name": "python",
   "nbconvert_exporter": "python",
   "pygments_lexer": "ipython3",
   "version": "3.11.3"
  }
 },
 "nbformat": 4,
 "nbformat_minor": 5
}
